{
 "cells": [
  {
   "cell_type": "markdown",
   "id": "a4e97256",
   "metadata": {},
   "source": [
    "# **Lab Exercise: Linear and Logistic Regression**"
   ]
  },
  {
   "cell_type": "markdown",
   "id": "5f13e57d-2212-4089-9e8d-0776dfba9eb7",
   "metadata": {},
   "source": [
    "## **Linear Regression Construction** "
   ]
  },
  {
   "cell_type": "markdown",
   "id": "4f702d80",
   "metadata": {},
   "source": [
    "#### **Section 1: Setting Up and Importing Libraries**\n",
    "*Objective:* Load the required `Python libraries`.\n"
   ]
  },
  {
   "cell_type": "code",
   "execution_count": 1,
   "id": "8b5c3769-8e6d-4774-86db-612a37163e71",
   "metadata": {},
   "outputs": [],
   "source": [
    "import numpy as np\n",
    "import pandas as pd\n",
    "import matplotlib.pyplot as plt"
   ]
  },
  {
   "cell_type": "markdown",
   "id": "ce42d797-2458-4e79-9c04-ff6264334aa1",
   "metadata": {},
   "source": [
    "#### **Section 2: Linear Regression Data Preparation**\n",
    "\n",
    "*Objective:* Create a dataset for linear regression.\n",
    "\n",
    "Task: Write the code to:\n",
    "\n",
    "Create a dataset with features and target variables for linear regression.\n",
    "Visualize the data using Matplotlib.\n"
   ]
  },
  {
   "cell_type": "code",
   "execution_count": 15,
   "id": "6eb0752f-ad50-42a9-8a61-ccb8e56408c8",
   "metadata": {},
   "outputs": [
    {
     "data": {
      "image/png": "[encoded data removed]",
      "text/plain": [
       "<Figure size 640x480 with 1 Axes>"
      ]
     },
     "metadata": {},
     "output_type": "display_data"
    }
   ],
   "source": [
    "# Generate synthetic data for linear regression\n",
    "np.random.seed(42)  # For reproducibility\n",
    "X = np.random.randint(1, 100, 20)  # Features (independent variable)\n",
    "y = 3 * X + 7 + np.random.normal(0, 15, 20)  # Target with noise\n",
    "\n",
    "# Visualize the data\n",
    "\n",
    "# You need to use scatter chart to Visualize the input dataset X & y\n",
    "# Your chart need to label the x-axis, y-axis and title\n",
    "# Your chart should use grid\n",
    "\n",
    "# Your code\n",
    "plt.scatter(X, y) # use scatter plot for linear regression\n",
    "plt.xlabel('X') #label x axis \n",
    "plt.ylabel('y') #label y axis \n",
    "plt.title('Scatter Plot of X and y') # add a title \n",
    "plt.grid(True)\n",
    "plt.show()\n"
   ]
  },
  {
   "cell_type": "markdown",
   "id": "796b61db-a62b-49b8-9469-759c4d606496",
   "metadata": {},
   "source": [
    "#### **Section 3: Implementing Linear Regression**\n",
    "\n",
    "*Objective:* Practice linear regression construction.\n",
    "\n",
    "Task: Write the code to:\n",
    "\n",
    "Write a Linear Regression function to minimize the cost function and find the optimal parameters.\n",
    "\n",
    "\n",
    "For **Undergraduate students** (CS457): You can **choose** any of the following methods to implement it.\n",
    "1. You can use any scikit-learn library.\n",
    "2. Manually write cost function & gradient descent function to implement it.\n",
    "\n",
    "For **Graduate students** (CS557): You have to implement it by\n",
    "1. Manually write cost function & gradient descent function to implement it.\n"
   ]
  },
  {
   "cell_type": "code",
   "execution_count": 43,
   "id": "569087ba-89de-4a5e-94f2-fba6d1ee4580",
   "metadata": {},
   "outputs": [
    {
     "name": "stdout",
     "output_type": "stream",
     "text": [
      "Intercept: 0.6104614253174816\n",
      "Coefficient: 2.9467103468179032\n"
     ]
    }
   ],
   "source": [
    "# Your code for linear regression model\n",
    "#reshape synthethic data \n",
    "np.random.seed(42)  # For reproducibility\n",
    "X = np.random.randint(1, 100, 20).reshape(-1,1)  # keep X as (20,1)\n",
    "y = 3 * X.flatten() + 7 + np.random.normal(0, 15, (20))  # y must be (20, )\n",
    "\n",
    "# Sklearn model\n",
    "from sklearn.linear_model import LinearRegression\n",
    "from sklearn.model_selection import train_test_split \n",
    "\n",
    "# Prepare data\n",
    "X_train, X_test, y_train, y_test = train_test_split(X, y, test_size=0.2, random_state=42)\n",
    "\n",
    "# Building the Model\n",
    "model = LinearRegression()\n",
    "model.fit(X_train, y_train)\n",
    "y_pred = model.predict(X_test)\n",
    "\n",
    "# Review Model parameter \n",
    "print(f'Intercept: {model.intercept_}')\n",
    "print(f'Coefficient: {model.coef_[0]}')\n",
    "\n"
   ]
  },
  {
   "cell_type": "code",
   "execution_count": 38,
   "id": "0a60ce07-9050-4863-9a88-f538137313fd",
   "metadata": {},
   "outputs": [],
   "source": [
    "# Your code for linear regression model\n",
    "\n",
    "# Manually write cost function & gradient descent \n",
    "\n",
    "# Reshape X to include a bias term (column of ones for the intercept) by np.column_stack\n",
    "# your code\n",
    "\n",
    "# Define the cost function for linear regression\n",
    "#def compute_cost(X, y, theta):\n",
    " ##  Compute the cost function for linear regression.\n",
    "   # \"\"\"\n",
    "    # your code \n",
    "\n",
    "    #return cost\n",
    "    \n",
    "   \n",
    "\n",
    "# Define the gradient descent function\n",
    "#def gradient_descent(X, y, alpha, iterations):\n",
    " #   \"\"\"\n",
    "  #  Perform gradient descent to minimize the cost function.\n",
    "   # \"\"\"\n",
    "    \n",
    "    #theta = np.zeros(2)  # Initialize theta (matching number of features)\n",
    "    #m = len(y)  # Number of training examples\n",
    "\n",
    "    \n",
    "\n",
    "    # Iterate to update theta with iterations\n",
    "    # your code \n",
    "    \n",
    "\n",
    "    #return theta\n",
    "    \n",
    "\n",
    "\n",
    "# Number of iterations for gradient descent\n",
    "#iterations = 5000\n",
    "\n",
    "# Learning rate for gradient descent\n",
    "#alpha = 0.0001\n",
    "\n",
    "# Call the gradient descent function to compute optimized parameters\n",
    "#theta = # your code\n",
    "\n",
    "# Compute the cost using the optimized parameters\n",
    "#cost = # your code\n",
    "\n",
    "# Print the results\n",
    "#print(\"Optimized theta (parameters):\", theta)  # Optimized values for theta (intercept and slope)\n",
    "#print(\"Final cost:\", cost)  # Final cost value to evaluate the fit"
   ]
  },
  {
   "cell_type": "markdown",
   "id": "7e9c2e68-0803-43b1-ac8c-8ca765d61b85",
   "metadata": {},
   "source": [
    "### **Section 4: Visualizing the Linear Regression Line**\n",
    "\n",
    "*Objective:* Plot the regression line with the original data.\n",
    "\n",
    "Task: Plot the data points and the fitted regression line."
   ]
  },
  {
   "cell_type": "code",
   "execution_count": 44,
   "id": "c1af75b3-958b-471a-90b2-1a9c6d40841c",
   "metadata": {},
   "outputs": [
    {
     "data": {
      "image/png": "[encoded data removed]",
      "text/plain": [
       "<Figure size 640x480 with 1 Axes>"
      ]
     },
     "metadata": {},
     "output_type": "display_data"
    }
   ],
   "source": [
    "# Compare predictions with actual values\n",
    "y_pred_full = model.predict(X)\n",
    "\n",
    "# Plot the data and regression line\n",
    "# You need to use scatter chart to Visualize the input dataset X & y\n",
    "plt.scatter(X, y, color='blue', label='Actual Data')\n",
    "\n",
    "# Your chart should plot the regression line using theta_optimal predictions\n",
    "plt.plot(X, y_pred_full, color='red', linewidth=2, label='Regression Line')  \n",
    "\n",
    "# Your chart need to label the x-axis, y-axis and title\n",
    "plt.xlabel('X')\n",
    "plt.ylabel('y')\n",
    "\n",
    "# Your chart should use grid\n",
    "plt.grid(True)\n",
    "\n",
    "# Please add your name to the graph title\n",
    "plt.title('Linear Regression Model- Rocio')\n",
    "\n",
    "plt.legend()\n",
    "plt.show()\n",
    " "
   ]
  },
  {
   "cell_type": "markdown",
   "id": "d0db4e3a-42a2-4cdc-a4f0-d702babd213a",
   "metadata": {},
   "source": [
    "## **Logistic Regression Construction** "
   ]
  },
  {
   "cell_type": "markdown",
   "id": "52bc9e31-8eea-4939-9f9b-99238a5afbb2",
   "metadata": {},
   "source": [
    "#### **Section 1: Logistic Regression Data Preparation**\n",
    "\n",
    "*Objective:* Prepare data for logistic regression.\n",
    "\n",
    "Task: Write the code to:\n",
    "\n",
    "Create synthetic data for binary classification.\n",
    "Visualize the data."
   ]
  },
  {
   "cell_type": "markdown",
   "id": "5576a731-78cc-45a5-aaba-0a327a833314",
   "metadata": {},
   "source": [
    "#### Dataset Description\n",
    "\n",
    "Study_hour_Data.csv - The dataset simulates a scenario where students' chances of passing a course are influenced by their study habits and class participation. It contains 200 observations and the following three columns:\n",
    "\n",
    "\n",
    "**Hours of Study:**\n",
    "Integer values representing the number of hours a student spends studying in a week.\n",
    "Range: 0 to 9.\n",
    "\n",
    "**Class Participation:**\n",
    "Float values between 0 and 1, representing the level of engagement in class activities.\n",
    "Higher values indicate greater participation.\n",
    "\n",
    "**Passed:**\n",
    "Binary target variable indicating whether the student passed the course:\n",
    "1: Passed.\n",
    "0: Did not pass.\n",
    "Determined based on a weighted combination of Hours of Study and Class Participation (with added noise), with a threshold value of 5."
   ]
  },
  {
   "cell_type": "code",
   "execution_count": 59,
   "id": "ddb97210-5bc9-41b9-ae6c-52c1dd6d517c",
   "metadata": {},
   "outputs": [
    {
     "name": "stdout",
     "output_type": "stream",
     "text": [
      "<class 'pandas.core.frame.DataFrame'>\n",
      "RangeIndex: 200 entries, 0 to 199\n",
      "Data columns (total 3 columns):\n",
      " #   Column               Non-Null Count  Dtype  \n",
      "---  ------               --------------  -----  \n",
      " 0   Hours of Study       200 non-null    int64  \n",
      " 1   Class Participation  200 non-null    float64\n",
      " 2   Passed               200 non-null    int64  \n",
      "dtypes: float64(1), int64(2)\n",
      "memory usage: 4.8 KB\n",
      "None\n",
      "       Hours of Study  Class Participation      Passed\n",
      "count      200.000000           200.000000  200.000000\n",
      "mean         4.115000             0.505828    0.750000\n",
      "std          2.751295             0.289315    0.434099\n",
      "min          0.000000             0.009934    0.000000\n",
      "25%          2.000000             0.248919    0.750000\n",
      "50%          4.000000             0.492630    1.000000\n",
      "75%          6.000000             0.771555    1.000000\n",
      "max          9.000000             0.992191    1.000000\n"
     ]
    }
   ],
   "source": [
    "import pandas as pd\n",
    "#read data from Pandas \n",
    "# Load dataset\n",
    "# please use Study_hour_Data.csv as your target data\n",
    "data = pd.read_csv(\"Study_hour_Data.csv\")\n",
    "\n",
    "# Display basic information\n",
    "print(data.info())\n",
    "print(data.describe())\n",
    "\n",
    "#Generate your training data X & y\n",
    "X =  data[['Hours of Study']] #Feature(independant variable)\n",
    "y =  data['Passed'] #Target \n",
    "\n",
    "#ensure y is in integer format (0 or 1)\n",
    "y = y.astype(int)"
   ]
  },
  {
   "cell_type": "markdown",
   "id": "ee3884a0-0234-49c0-b9c2-039d80f3c444",
   "metadata": {},
   "source": [
    "#### **Section 2: Visualize the data**"
   ]
  },
  {
   "cell_type": "code",
   "execution_count": 60,
   "id": "7c8183a3-e11b-46c0-9ddf-bdee3cc0bce8",
   "metadata": {},
   "outputs": [
    {
     "data": {
      "image/png": "[encoded data removed]",
      "text/plain": [
       "<Figure size 640x480 with 1 Axes>"
      ]
     },
     "metadata": {},
     "output_type": "display_data"
    }
   ],
   "source": [
    "# Visualize the data\n",
    "\n",
    "# You need to use scatter chart to Visualize the input dataset X & y\n",
    "plt.scatter(X, y, color='blue', label='data points')\n",
    "\n",
    "# Your chart need to label the x-axis, y-axis and title\n",
    "plt.xlabel('Hours of Study')\n",
    "plt.ylabel('Class Participation')\n",
    "            \n",
    "# Your chart should use grid\n",
    "plt.grid(True)\n",
    "\n",
    "# Please add your name to the graph title\n",
    "plt.title('Study Hours vs Class Participations - Rocio')\n",
    "\n",
    "plt.show()"
   ]
  },
  {
   "cell_type": "markdown",
   "id": "5317d5a8-c76a-46a3-ab2a-a9ce54b1e51f",
   "metadata": {},
   "source": [
    "#### **Section 3: Implementing Logistic Regression**\n",
    "\n",
    "*Objective:* Implement logistic regression.\n",
    "\n",
    "For **Undergraduate students** (CS457): You can **choose** any of the following methods to implement it.\n",
    "1. You can use any scikit-learn library.\n",
    "2. Manually write cost function & gradient descent function to implement it. \n",
    "\n",
    "For **Graduate students** (CS557): You have to implement it by\n",
    "1. Manually write cost function & gradient descent function to implement it.\n",
    "\n",
    "\n",
    "Then, use the scipy.optimize library to fit the logistic regression model."
   ]
  },
  {
   "cell_type": "code",
   "execution_count": 65,
   "id": "033c773f-d7e2-4a2a-90b2-4ccbb583df56",
   "metadata": {},
   "outputs": [
    {
     "name": "stdout",
     "output_type": "stream",
     "text": [
      "Intercept: [-4.36556407]\n",
      "Coefficient: [2.41836378]\n"
     ]
    }
   ],
   "source": [
    "# Sklearn model\n",
    "from sklearn.linear_model import LogisticRegression\n",
    "from sklearn.model_selection import train_test_split \n",
    "\n",
    "\n",
    "# Prepare data\n",
    "X_train, X_test, y_train, y_test = train_test_split(X, y, test_size=0.2, random_state=42)\n",
    "\n",
    "# Building the Model\n",
    "model = LogisticRegression()\n",
    "model.fit(X_train, y_train)\n",
    "\n",
    "y_pred = model.predict(X_test)\n",
    "\n",
    "# Review Model parameter \n",
    "print(f'Intercept: {model.intercept_}')\n",
    "print(f'Coefficient: {model.coef_[0]}')"
   ]
  },
  {
   "cell_type": "code",
   "execution_count": 96,
   "id": "4623ce3e-1131-4f91-b9f5-33e6258b1bd9",
   "metadata": {},
   "outputs": [],
   "source": [
    "# Your logistic regression model\n",
    "\n",
    "# Define the sigmoid function\n",
    "def sigmoid(z):\n",
    "    return 1/(1+np.exp(-z))\n",
    "    \n",
    "# Define the cost function for logistic regression\n",
    "def cost_function(theta, X, y):\n",
    "    m=len(y) #num of training examples\n",
    "    predictions=sigmoid(np.dot(X, theta)) #make prediction using the sigmoid function\n",
    "    #calculatethe cost: avg of the log-likelihood loss over all training examples\n",
    "    cost = (-y@np.log(predictions)-(1-y)@ np.log(1-predictions))/m\n",
    "    return cost\n",
    "\n",
    "# Define the gradient function\n",
    "#\n",
    "def gradient(theta, X, y):\n",
    "    m=len(y) #num of training examples\n",
    "    predictions = sigmoid(np.dot(X, theta)) #make prediction using the sigmoid function\n",
    "    grad = np.dot(X.T, (predictions-y)) #use matrix multiplication\n",
    "    return grad\n",
    "    "
   ]
  },
  {
   "cell_type": "code",
   "execution_count": 97,
   "id": "3e835e8c-8d87-4630-95ac-2fd002683d82",
   "metadata": {},
   "outputs": [
    {
     "name": "stdout",
     "output_type": "stream",
     "text": [
      "Optimized theta (parameters): [0.6776359]\n"
     ]
    }
   ],
   "source": [
    "# Train your model\n",
    "from scipy.optimize import minimize   \n",
    "\n",
    "# Add a bias term (intercept) to X \n",
    "x= np.c_[np.ones(X.shape[0]), X]\n",
    "\n",
    "# Initialize theta (parameters) to zeros\n",
    "initial_theta = np.zeros(X.shape[1]) \n",
    "\n",
    "# Minimize the cost function using scipy.optimize\n",
    "result = minimize(fun=cost_function, x0=initial_theta, args=(X, y), jac=gradient, method='TNC')\n",
    "\n",
    "optimal_theta = result.x\n",
    "\n",
    "# Print the optimized parameters (theta)\n",
    "print(\"Optimized theta (parameters):\", optimal_theta)"
   ]
  },
  {
   "cell_type": "markdown",
   "id": "3c5beb99-6509-4a52-9f6e-f83ff2773ce3",
   "metadata": {},
   "source": [
    "#### **Section 4: Evaluate the model**\n",
    "\n",
    "*Objective:* Evaluate the model with the fitted data.\n",
    "\n",
    "Task: build the Predict function, and Calculate accuracy."
   ]
  },
  {
   "cell_type": "code",
   "execution_count": 98,
   "id": "a69d76b1-c489-475b-bedb-baa20ecad40c",
   "metadata": {},
   "outputs": [],
   "source": [
    "# Predict function\n",
    "def predict(X, theta):\n",
    "    #compute the predictions using the sigmoid function \n",
    "    predictions = sigmoid(np.dot(X, theta))\n",
    "    #convert probabilities to 0 or 1 based on a treshhold of 0.5\n",
    "    return [1 if p >= 0.5 else 0 for p in predictions] \n",
    "# Make predictions\n",
    "predictions = predict(X_test, optimal_theta)\n"
   ]
  },
  {
   "cell_type": "code",
   "execution_count": 99,
   "id": "336aa148-2d43-47d3-83e7-e8bd260f0f76",
   "metadata": {},
   "outputs": [
    {
     "name": "stdout",
     "output_type": "stream",
     "text": [
      "Accuracy: 72.5 %\n"
     ]
    }
   ],
   "source": [
    "# Calculate accuracy\n",
    "accuracy = np.mean(predictions == y_test)*100\n",
    "print(\"Accuracy:\", accuracy, \"%\")"
   ]
  },
  {
   "cell_type": "markdown",
   "id": "d45ba386-8248-41f5-9112-0ba46875eda5",
   "metadata": {},
   "source": [
    "### **Section 5: Visualizing Logistic Regression Fit**\n",
    "\n",
    "*Objective:* Plot the logistic regression fit with the original data.\n",
    "\n",
    "Task: Plot the sigmoid curve over the range of input features."
   ]
  },
  {
   "cell_type": "code",
   "execution_count": 100,
   "id": "7f29587c-cd62-4ea6-9226-ea904016778b",
   "metadata": {},
   "outputs": [
    {
     "ename": "ValueError",
     "evalue": "shapes (100,2) and (1,) not aligned: 2 (dim 1) != 1 (dim 0)",
     "output_type": "error",
     "traceback": [
      "\u001b[1;31m---------------------------------------------------------------------------\u001b[0m",
      "\u001b[1;31mValueError\u001b[0m                                Traceback (most recent call last)",
      "Cell \u001b[1;32mIn[100], line 14\u001b[0m\n\u001b[0;32m     11\u001b[0m x_values \u001b[38;5;241m=\u001b[39m np\u001b[38;5;241m.\u001b[39mc_[np\u001b[38;5;241m.\u001b[39mones((x_values\u001b[38;5;241m.\u001b[39mshape[\u001b[38;5;241m0\u001b[39m], \u001b[38;5;241m1\u001b[39m)), x_values] \u001b[38;5;66;03m#add bias term\u001b[39;00m\n\u001b[0;32m     13\u001b[0m \u001b[38;5;66;03m#calculate the sigmoid function for the regression line \u001b[39;00m\n\u001b[1;32m---> 14\u001b[0m y_values \u001b[38;5;241m=\u001b[39m sigmoid(np\u001b[38;5;241m.\u001b[39mdot(x_values, optimal_theta))\n\u001b[0;32m     16\u001b[0m \u001b[38;5;66;03m#plot the sigmoid curve (regression line)\u001b[39;00m\n\u001b[0;32m     17\u001b[0m plt\u001b[38;5;241m.\u001b[39mplot(x_values[:,\u001b[38;5;241m1\u001b[39m], y_values, color\u001b[38;5;241m=\u001b[39m\u001b[38;5;124m'\u001b[39m\u001b[38;5;124mred\u001b[39m\u001b[38;5;124m'\u001b[39m, label\u001b[38;5;241m=\u001b[39m\u001b[38;5;124m'\u001b[39m\u001b[38;5;124mLogistic regression fit\u001b[39m\u001b[38;5;124m'\u001b[39m)\n",
      "\u001b[1;31mValueError\u001b[0m: shapes (100,2) and (1,) not aligned: 2 (dim 1) != 1 (dim 0)"
     ]
    },
    {
     "data": {
      "image/png": "[encoded data removed]",
      "text/plain": [
       "<Figure size 640x480 with 1 Axes>"
      ]
     },
     "metadata": {},
     "output_type": "display_data"
    }
   ],
   "source": [
    "# Plot the data and regression line\n",
    "# You need to use scatter chart to Visualize the input dataset X & y\n",
    "# Your chart should plot the regression line using theta_optimal predictions \n",
    "# Your chart need to label the x-axis, y-axis and title\n",
    "# Your chart should use grid\n",
    "# Please add your name to the graph title\n",
    "plt.scatter(X, y, color='blue', label='Data points')\n",
    "\n",
    "#create a range of x values for plotting the sigmoid curve \n",
    "x_values = np.linspace(min(X.values), max(X.values), 100).reshape(-1, 1)\n",
    "x_values = np.c_[np.ones((x_values.shape[0], 1)), x_values] #add bias term\n",
    "\n",
    "#calculate the sigmoid function for the regression line \n",
    "y_values = sigmoid(np.dot(x_values, optimal_theta))\n",
    "\n",
    "#plot the sigmoid curve (regression line)\n",
    "plt.plot(x_values[:,1], y_values, color='red', label='Logistic regression fit')\n",
    "\n",
    "#labeling the axes and adding title \n",
    "plt.xlabel('Hours of Study')\n",
    "plt.ylabel('Probability of Passing')\n",
    "plt.title('Logistic Regression Fir- Rocio')\n",
    "\n",
    "#add grid and legend\n",
    "plt.grid(True)\n",
    "plt.legend()\n",
    "\n",
    "plt.show()\n",
    "\n"
   ]
  },
  {
   "cell_type": "code",
   "execution_count": null,
   "id": "27191b69-a42c-40df-ab8e-a3ed86abc7a5",
   "metadata": {},
   "outputs": [],
   "source": []
  },
  {
   "cell_type": "code",
   "execution_count": null,
   "id": "bc225e48-5c64-4e45-9331-74eb9ab42433",
   "metadata": {},
   "outputs": [],
   "source": []
  }
 ],
 "metadata": {
  "kernelspec": {
   "display_name": "Python 3 (ipykernel)",
   "language": "python",
   "name": "python3"
  },
  "language_info": {
   "codemirror_mode": {
    "name": "ipython",
    "version": 3
   },
   "file_extension": ".py",
   "mimetype": "text/x-python",
   "name": "python",
   "nbconvert_exporter": "python",
   "pygments_lexer": "ipython3",
   "version": "3.12.7"
  }
 },
 "nbformat": 4,
 "nbformat_minor": 5
}
