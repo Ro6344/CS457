{
  "cells": [
    {
      "cell_type": "markdown",
      "metadata": {
        "id": "5-WLeQ-CBnGY"
      },
      "source": [
        "# Exercises with Python"
      ]
    },
    {
      "cell_type": "code",
      "execution_count": 2,
      "metadata": {
        "id": "9EXHYy2YBnGa"
      },
      "outputs": [],
      "source": [
        "import numpy as np\n",
        "import matplotlib.pyplot as plt\n",
        "import pandas as pd"
      ]
    },
    {
      "cell_type": "markdown",
      "metadata": {
        "id": "PPogEKNqBnGb"
      },
      "source": [
        "## Exercise 1 - Numpy\n",
        "#### Creat an array of 450 random integers between -10 and 10"
      ]
    },
    {
      "cell_type": "code",
      "execution_count": 4,
      "metadata": {
        "colab": {
          "base_uri": "https://localhost:8080/"
        },
        "id": "OKrN66pKBnGb",
        "outputId": "6ca3bb68-53e5-44b0-bdce-bf329be47a5e"
      },
      "outputs": [
        {
          "output_type": "execute_result",
          "data": {
            "text/plain": [
              "array([ -5,   0,  -3,   9,   2,  -4,  -6,  -3,  -5,   4,  -6,   8,  -7,\n",
              "         2,   4,   7,   4,   6,   5,   1,   4,   6,  -2,  -6,  -6,   1,\n",
              "         1,   6,  -1,  -4,   7,   3,   6,  -9,  -7,  -6,   0,   0,   7,\n",
              "         2,   0,  -2,  -9,   6,  -4,   1,   3,  -4,  -4,  -1,   7,   4,\n",
              "        -3,  -3,  -6,  -8,  -3,  -6,  -2,  -6,  -5,  -6,  -6,  -2,   4,\n",
              "        -1,  -6,   4,   8,  -8,   3,   8,   8,   8,   3,  -7,  -4,  -9,\n",
              "         3,   3,  -1,  -8,   3,  -1,   9,  -1,   5,  -1,   4,  -6,   1,\n",
              "       -10,  -2,  -5, -10,   8,   2, -10,   9, -10, -10,   4,  -8,   7,\n",
              "        -4,  -3,  -1,   9,   3,  -9,   7,  -3,  -9,   1,   2,  -2,   2,\n",
              "         0,   5,  -2,   4,  -9,   7,   3,   8,   3,  -1,  -7,   6,   7,\n",
              "         9,  -7,  -3,   0,  -1,  -7,   2,  -5,   6,   4,   3,  -9,  -9,\n",
              "         1,   7,   3,   9, -10,   4,  -8,   1, -10,  -9,  -9, -10,  -5,\n",
              "        -3,  -9,  -3,  -3,  -6,   6,   8,  -7,   9,   3,   6,   7,  -3,\n",
              "         9, -10,   1,  -3,   4,  -5,  -4,   5, -10,   4,  -8,  -9,   3,\n",
              "         4,  -6,   8,  -5,   2,  -2,  -5,   9,   6,  -6,  -3,  -6,  -3,\n",
              "        -1,  -2,   1,   1,  -6,   9,   3,  -3,  -8,  -3,   7,  -4,  -6,\n",
              "         3,   4,  -7,  -6,   9,   7, -10,   1, -10,   5, -10,  -3,   6,\n",
              "        -4,   8,  -3,  -5,   6,   8,   3,   0,   3,  -4,   6,  -2,  -8,\n",
              "        -2,  -1,   6,   6,  -4,   8,  -1,  -8, -10,  -6,   3,  -3,  -7,\n",
              "        -2,  -6,   4,   5,  -2,  -4,  -1,   1,   9,   6,  -5,   8,   5,\n",
              "        -1,  -2,   0,  -8,   6,  -5,   2,  -8,   2,   7,  -3,  -1,   1,\n",
              "         3,  -2,   9,   0,   3,  -6,  -9,   1,   8,  -3,  -9,   0,   0,\n",
              "        -6,  -4,   7,   7,  -9,   8,  -8,  -6,   7,   4,   1,  -3,  -6,\n",
              "        -3,  -1,  -1,  -3,  -1,   3,   6,  -9,   9, -10,   5,  -9,  -3,\n",
              "        -3,   1,  -2,   2,   7,   0,  -1,  -8,   7,  -6,  -9,   0,  -5,\n",
              "        -5,  -4,  -7,   2,  -8,   8,  -7,   1,  -5,  -7,  -3,  -8,  -5,\n",
              "        -4,   9,  -4,   3,  -1,  -2,   1,  -6,   5,  -8,   1,   2,  -5,\n",
              "         4,  -9,   7,  -8,  -4,  -4,  -4,   8,  -4,  -2,  -6,   1,   5,\n",
              "         5,   5,  -4,  -3,   0,   2,  -7,   5,   7, -10,  -3,   2,   2,\n",
              "         5,   6,   5,   9,   5,   0,  -3,   2,   8,   5,   1,   6,   3,\n",
              "        -2,  -4,  -5,  -1,  -5,  -2,   6,  -7,   7,  -7,   8,  -9,  -4,\n",
              "         6,  -3,   9,   3,  -3,   2,  -2,  -9,   2,   4,   9,  -9,  -4,\n",
              "        -5,   3, -10,   2,  -6,   0,   1,   0,   1,   7,  -6,  -5,  -4,\n",
              "         4,  -9,   3,  -4,  -2,   9,  -4,   2,  -4,   4,  -6,  -6,   8,\n",
              "         3,   0,  -3,  -5,  -3,   5,  -1,  -5])"
            ]
          },
          "metadata": {},
          "execution_count": 4
        }
      ],
      "source": [
        "# Your code:\n",
        "\n",
        "array = np.random.randint(-10,10,size=450)\n",
        "\n",
        "array"
      ]
    },
    {
      "cell_type": "markdown",
      "metadata": {
        "id": "FNaEOHuiBnGc"
      },
      "source": [
        "#### Resize the above array as a 5x70 matrix.\n",
        "#### Is there a problem?\n",
        "\n",
        "#### If there is, correct it to a suitable shape.\n",
        "\n",
        "We check what dimension our array has:"
      ]
    },
    {
      "cell_type": "code",
      "execution_count": 5,
      "metadata": {
        "colab": {
          "base_uri": "https://localhost:8080/",
          "height": 237
        },
        "id": "D9IorRROBnGc",
        "outputId": "7a92e2d4-ab7a-4687-b224-ff170205aede"
      },
      "outputs": [
        {
          "output_type": "stream",
          "name": "stdout",
          "text": [
            "(450,)\n"
          ]
        },
        {
          "output_type": "error",
          "ename": "ValueError",
          "evalue": "cannot reshape array of size 450 into shape (5,70)",
          "traceback": [
            "\u001b[0;31m---------------------------------------------------------------------------\u001b[0m",
            "\u001b[0;31mValueError\u001b[0m                                Traceback (most recent call last)",
            "\u001b[0;32m<ipython-input-5-0df04ede00a7>\u001b[0m in \u001b[0;36m<cell line: 0>\u001b[0;34m()\u001b[0m\n\u001b[1;32m      3\u001b[0m \u001b[0mprint\u001b[0m\u001b[0;34m(\u001b[0m\u001b[0marray\u001b[0m\u001b[0;34m.\u001b[0m\u001b[0mshape\u001b[0m\u001b[0;34m)\u001b[0m\u001b[0;34m\u001b[0m\u001b[0;34m\u001b[0m\u001b[0m\n\u001b[1;32m      4\u001b[0m \u001b[0;34m\u001b[0m\u001b[0m\n\u001b[0;32m----> 5\u001b[0;31m \u001b[0mnew_matrix\u001b[0m \u001b[0;34m=\u001b[0m \u001b[0marray\u001b[0m\u001b[0;34m.\u001b[0m\u001b[0mreshape\u001b[0m\u001b[0;34m(\u001b[0m\u001b[0;36m5\u001b[0m\u001b[0;34m,\u001b[0m\u001b[0;36m70\u001b[0m\u001b[0;34m)\u001b[0m\u001b[0;34m\u001b[0m\u001b[0;34m\u001b[0m\u001b[0m\n\u001b[0m\u001b[1;32m      6\u001b[0m \u001b[0;34m\u001b[0m\u001b[0m\n\u001b[1;32m      7\u001b[0m \u001b[0;34m\u001b[0m\u001b[0m\n",
            "\u001b[0;31mValueError\u001b[0m: cannot reshape array of size 450 into shape (5,70)"
          ]
        }
      ],
      "source": [
        "# Your code:\n",
        "\n",
        "print(array.shape)\n",
        "\n",
        "new_matrix = array.reshape(5,70)\n",
        "\n",
        "\n",
        "# Is there a problem? why?\n",
        "#Please add your idea\n",
        "# A 5x70 array can only hold 350 items\n",
        "# A 9x50 array can hold all 450 items\n",
        "\n"
      ]
    },
    {
      "cell_type": "code",
      "execution_count": 6,
      "metadata": {
        "colab": {
          "base_uri": "https://localhost:8080/"
        },
        "id": "KW-aHW1sBnGc",
        "outputId": "492ee955-a08f-48ca-9496-ddbbd3f816d7"
      },
      "outputs": [
        {
          "output_type": "execute_result",
          "data": {
            "text/plain": [
              "(450,)"
            ]
          },
          "metadata": {},
          "execution_count": 6
        }
      ],
      "source": [
        "array.shape"
      ]
    },
    {
      "cell_type": "markdown",
      "metadata": {
        "id": "fSV5FjfLBnGd"
      },
      "source": [
        "We resize:"
      ]
    },
    {
      "cell_type": "code",
      "execution_count": 8,
      "metadata": {
        "colab": {
          "base_uri": "https://localhost:8080/"
        },
        "id": "LPB1oNAGBnGd",
        "outputId": "414c1ae5-cfe2-4088-ba84-c6d111d730ce"
      },
      "outputs": [
        {
          "output_type": "stream",
          "name": "stdout",
          "text": [
            "[[ -5   0  -3   9   2  -4  -6  -3  -5   4  -6   8  -7   2   4   7   4   6\n",
            "    5   1   4   6  -2  -6  -6   1   1   6  -1  -4   7   3   6  -9  -7  -6\n",
            "    0   0   7   2   0  -2  -9   6  -4   1   3  -4  -4  -1]\n",
            " [  7   4  -3  -3  -6  -8  -3  -6  -2  -6  -5  -6  -6  -2   4  -1  -6   4\n",
            "    8  -8   3   8   8   8   3  -7  -4  -9   3   3  -1  -8   3  -1   9  -1\n",
            "    5  -1   4  -6   1 -10  -2  -5 -10   8   2 -10   9 -10]\n",
            " [-10   4  -8   7  -4  -3  -1   9   3  -9   7  -3  -9   1   2  -2   2   0\n",
            "    5  -2   4  -9   7   3   8   3  -1  -7   6   7   9  -7  -3   0  -1  -7\n",
            "    2  -5   6   4   3  -9  -9   1   7   3   9 -10   4  -8]\n",
            " [  1 -10  -9  -9 -10  -5  -3  -9  -3  -3  -6   6   8  -7   9   3   6   7\n",
            "   -3   9 -10   1  -3   4  -5  -4   5 -10   4  -8  -9   3   4  -6   8  -5\n",
            "    2  -2  -5   9   6  -6  -3  -6  -3  -1  -2   1   1  -6]\n",
            " [  9   3  -3  -8  -3   7  -4  -6   3   4  -7  -6   9   7 -10   1 -10   5\n",
            "  -10  -3   6  -4   8  -3  -5   6   8   3   0   3  -4   6  -2  -8  -2  -1\n",
            "    6   6  -4   8  -1  -8 -10  -6   3  -3  -7  -2  -6   4]\n",
            " [  5  -2  -4  -1   1   9   6  -5   8   5  -1  -2   0  -8   6  -5   2  -8\n",
            "    2   7  -3  -1   1   3  -2   9   0   3  -6  -9   1   8  -3  -9   0   0\n",
            "   -6  -4   7   7  -9   8  -8  -6   7   4   1  -3  -6  -3]\n",
            " [ -1  -1  -3  -1   3   6  -9   9 -10   5  -9  -3  -3   1  -2   2   7   0\n",
            "   -1  -8   7  -6  -9   0  -5  -5  -4  -7   2  -8   8  -7   1  -5  -7  -3\n",
            "   -8  -5  -4   9  -4   3  -1  -2   1  -6   5  -8   1   2]\n",
            " [ -5   4  -9   7  -8  -4  -4  -4   8  -4  -2  -6   1   5   5   5  -4  -3\n",
            "    0   2  -7   5   7 -10  -3   2   2   5   6   5   9   5   0  -3   2   8\n",
            "    5   1   6   3  -2  -4  -5  -1  -5  -2   6  -7   7  -7]\n",
            " [  8  -9  -4   6  -3   9   3  -3   2  -2  -9   2   4   9  -9  -4  -5   3\n",
            "  -10   2  -6   0   1   0   1   7  -6  -5  -4   4  -9   3  -4  -2   9  -4\n",
            "    2  -4   4  -6  -6   8   3   0  -3  -5  -3   5  -1  -5]]\n"
          ]
        }
      ],
      "source": [
        "corrected_matrix = array.reshape(9,50)\n",
        "print(corrected_matrix)"
      ]
    },
    {
      "cell_type": "markdown",
      "metadata": {
        "id": "oHx6G36oBnGd"
      },
      "source": [
        "#### Choose values greater than 0 from your corrected_matrix."
      ]
    },
    {
      "cell_type": "code",
      "execution_count": 10,
      "metadata": {
        "colab": {
          "base_uri": "https://localhost:8080/"
        },
        "id": "bpq6v9LJBnGd",
        "outputId": "009a330c-41b0-4fb6-e64f-cda7d700bc07"
      },
      "outputs": [
        {
          "output_type": "stream",
          "name": "stdout",
          "text": [
            "[9 2 4 8 2 4 7 4 6 5 1 4 6 1 1 6 7 3 6 7 2 6 1 3 7 4 4 4 8 3 8 8 8 3 3 3 3\n",
            " 9 5 4 1 8 2 9 4 7 9 3 7 1 2 2 5 4 7 3 8 3 6 7 9 2 6 4 3 1 7 3 9 4 1 6 8 9\n",
            " 3 6 7 9 1 4 5 4 3 4 8 2 9 6 1 1 9 3 7 3 4 9 7 1 5 6 8 6 8 3 3 6 6 6 8 3 4\n",
            " 5 1 9 6 8 5 6 2 2 7 1 3 9 3 1 8 7 7 8 7 4 1 3 6 9 5 1 2 7 7 2 8 1 9 3 1 5\n",
            " 1 2 4 7 8 1 5 5 5 2 5 7 2 2 5 6 5 9 5 2 8 5 1 6 3 6 7 8 6 9 3 2 2 4 9 3 2\n",
            " 1 1 7 4 3 9 2 4 8 3 5]\n"
          ]
        }
      ],
      "source": [
        "# Your code\n",
        "positive_val = corrected_matrix[corrected_matrix > 0]\n"
      ]
    },
    {
      "cell_type": "markdown",
      "metadata": {
        "id": "eENRxgeWBnGd"
      },
      "source": [
        "#### Given this array x = np.array ([- 5,6, -7,9]), create another array in absolute value"
      ]
    },
    {
      "cell_type": "code",
      "execution_count": 14,
      "metadata": {
        "colab": {
          "base_uri": "https://localhost:8080/"
        },
        "id": "9EqtQzCDBnGd",
        "outputId": "24e655fc-af55-4078-fab2-817b7242d49c"
      },
      "outputs": [
        {
          "output_type": "stream",
          "name": "stdout",
          "text": [
            "[5 6 7 9]\n"
          ]
        }
      ],
      "source": [
        "# your code:\n",
        "x = np.array ([- 5,6, -7,9])\n",
        "abs_array = abs(x)"
      ]
    },
    {
      "cell_type": "markdown",
      "metadata": {
        "id": "6ymlmW7TBnGe"
      },
      "source": [
        "#### Given this array x = np.array ([- 5,6, -7,9]), transform it into a 2x2 matrix and calculate the maximum and minimum of each row and column."
      ]
    },
    {
      "cell_type": "code",
      "execution_count": 16,
      "metadata": {
        "colab": {
          "base_uri": "https://localhost:8080/"
        },
        "id": "WMbUAl8xBnGe",
        "outputId": "77a11a13-fd52-43f4-d033-b9d7957f54a1"
      },
      "outputs": [
        {
          "output_type": "execute_result",
          "data": {
            "text/plain": [
              "array([[-5,  6],\n",
              "       [-7,  9]])"
            ]
          },
          "metadata": {},
          "execution_count": 16
        }
      ],
      "source": [
        "# your code:\n",
        "x = np.array ([- 5,6, -7,9])\n",
        "x_reshaped = x.reshape(2,2)\n",
        "\n",
        "row_min = x_reshaped.min(axis=0)\n",
        "row_max = x_reshaped.max(axis=0)\n",
        "col_min = x_reshaped.min(axis=1)\n",
        "col_max = x_reshaped.max(axis=1)\n",
        "\n",
        "x_reshaped"
      ]
    },
    {
      "cell_type": "markdown",
      "metadata": {
        "id": "PrTKS8NyBnGe"
      },
      "source": [
        "#### Create a matrix of ones with 3x3 range as a_ones, and modify the the a_ones[1][0] = 3  "
      ]
    },
    {
      "cell_type": "code",
      "execution_count": 18,
      "metadata": {
        "colab": {
          "base_uri": "https://localhost:8080/"
        },
        "id": "I_ChWcdlBnGe",
        "outputId": "573d0c4b-a927-4663-cfa6-307af1ca97ab"
      },
      "outputs": [
        {
          "output_type": "execute_result",
          "data": {
            "text/plain": [
              "array([[1., 1., 1.],\n",
              "       [3., 1., 1.],\n",
              "       [1., 1., 1.]])"
            ]
          },
          "metadata": {},
          "execution_count": 18
        }
      ],
      "source": [
        "# your code:\n",
        "\n",
        "a_ones = np.ones((3,3))\n",
        "\n",
        "a_ones[1][0] = 3\n",
        "\n",
        "a_ones\n"
      ]
    },
    {
      "cell_type": "markdown",
      "metadata": {
        "id": "dqc1yP0zBnGf"
      },
      "source": [
        "#### Compute dot product for a_ones and x_reshaped"
      ]
    },
    {
      "cell_type": "code",
      "execution_count": 31,
      "metadata": {
        "id": "EGBabhB0BnGf"
      },
      "outputs": [],
      "source": [
        "# your code\n",
        "#pad array with 0s\n",
        "x_padded = np.array([-5,6,-7,9,0,0,0,0,0])\n",
        "\n",
        "#reshape to 3x3\n",
        "x_padded = x_padded.reshape(3,3)\n",
        "\n",
        "#perform calculations\n",
        "dot_product = np.dot(a_ones, x_padded)\n",
        "\n",
        "# List the mathematical calculation steps\n",
        "# 1*(-5)+1*9+1*0  1*6+1*0+1*0  1*(-7)+1*0+1*0\n",
        "# 3*(-5)+1*9+1*0  3*6+1*0+1*0  3*(-7)+1*0+1*0\n",
        "# 1*(-5)+1*9+1*0  1*6+1*0+1*0  1*(-7)+1*0+1*0\n",
        "\n"
      ]
    },
    {
      "cell_type": "markdown",
      "metadata": {
        "id": "SgY5yvkrBnGf"
      },
      "source": [
        "## Exercise 2 - Plot Practice"
      ]
    },
    {
      "cell_type": "markdown",
      "metadata": {
        "id": "Xz0rJQtdBnGf"
      },
      "source": [
        "#### Undergraduate student Instructions (CS457)\n",
        "\n",
        "- Let's think if we have this function: f (t) defined by: f (t) = 2t / (1 + t ^ 2) ^ 2 with t> 0.\n",
        "- Where t could be generated by np.linspace(0,10,100)\n",
        "- Provide plot results"
      ]
    },
    {
      "cell_type": "code",
      "execution_count": 33,
      "metadata": {
        "id": "BehxF0lIBnGf"
      },
      "outputs": [],
      "source": [
        "# Your code:\n",
        "t = np.linspace(0,10,100)\n",
        "\n",
        "y = 2*t / ((1+t**2)**2)\n"
      ]
    },
    {
      "cell_type": "code",
      "execution_count": 38,
      "metadata": {
        "colab": {
          "base_uri": "https://localhost:8080/",
          "height": 503
        },
        "id": "Nf8_ASr3BnGf",
        "outputId": "42fab5a0-f561-4640-f2dd-da79c72ac30d"
      },
      "outputs": [
        {
          "output_type": "display_data",
          "data": {
            "text/plain": [
              "<Figure size 800x500 with 1 Axes>"
            ],
            "image/png": "[encoded data removed]"
          },
          "metadata": {}
        }
      ],
      "source": [
        "# Plot graph with x, y and label set the fontsize = 14\n",
        "# Plot <Your Name> + title and set the fontsize = 14\n",
        "# plot size as (8,5)\n",
        "plt.figure(figsize=(8,5))\n",
        "plt.plot(t, y, label = \"Graph of $y = \\\\frac{2x}{(1+x^2)^2}$\") #plot with label\n",
        "plt.xlabel(\"t\", fontsize=14)\n",
        "plt.ylabel(\"f(t)\", fontsize=14)\n",
        "\n",
        "\n",
        "# plot with legend\n",
        "plt.legend()\n",
        "plt.grid(True)\n",
        "\n",
        "# plot with grid\n",
        "plt.title(\"Rocio + Graph of $y = \\\\frac{2x}{(1+x^2)^2}$\", fontsize=14)\n",
        "\n",
        "plt.show()"
      ]
    },
    {
      "cell_type": "markdown",
      "metadata": {
        "id": "rjh6IK-CBnGg"
      },
      "source": [
        "#### Graduate student Instructions (CS557)\n",
        "\n",
        "- Let's think if we have this function: f (t) defined by: f (t) = 2t / (1 + t ^ 2) ^ 2 with t> 0.\n",
        "- Where t could be generated by np.linspace(0,10,100)\n",
        "- Provide line graph with mask = star\n",
        "- Provide bar graph with any 5 points data"
      ]
    },
    {
      "cell_type": "code",
      "execution_count": null,
      "metadata": {
        "id": "aLQw2ii-BnGg"
      },
      "outputs": [],
      "source": [
        "# Your code:\n"
      ]
    },
    {
      "cell_type": "code",
      "execution_count": null,
      "metadata": {
        "id": "4uNMabKFBnGg"
      },
      "outputs": [],
      "source": [
        "# Line Graph\n",
        "# Plot graph with x, y and label set the fontsize = 14\n",
        "# Plot <Your Name> + title and set the fontsize = 14\n",
        "# plot size as (8,5)\n",
        "# plot with legend\n",
        "# plot with grid\n",
        "\n",
        "\n",
        "plt.title(\"<Your Name> + Graph of $y = \\\\frac{2x}{(1+x^2)^2}$\", fontsize=14)\n",
        "\n",
        "plt.show()"
      ]
    },
    {
      "cell_type": "code",
      "execution_count": null,
      "metadata": {
        "id": "5MTGWBYBBnGg"
      },
      "outputs": [],
      "source": [
        "# Bar Graph\n",
        "# Plot graph with x, y and label set the fontsize = 14\n",
        "# Plot <Your Name> + title and set the fontsize = 14\n",
        "# plot size as (8,5)\n",
        "# plot with legend\n",
        "# plot with grid\n",
        "\n",
        "\n",
        "plt.title(\"<Your Name> + Graph of $y = \\\\frac{2x}{(1+x^2)^2}$\", fontsize=14)\n",
        "\n",
        "plt.show()"
      ]
    },
    {
      "cell_type": "markdown",
      "metadata": {
        "id": "NqAS-I4FBnGg"
      },
      "source": [
        "# Exercise 3 - Pandas"
      ]
    },
    {
      "cell_type": "markdown",
      "metadata": {
        "id": "Zo78ZDO-BnGg"
      },
      "source": [
        "#### You have obtained a piece of data about a hill. Please manually assign this data to a dictionary.\n",
        "\n",
        "\n",
        "\"Hill Name\": [\"Everest\", \"K2\", \"Kangchenjunga\", \"Lhotse\", \"Makalu\", \"Cho Oyu\", \"Dhaulagiri\", \"Manaslu\", \"Nanga Parbat\", \"Annapurna\"],\n",
        "\n",
        "\"Height (m)\": [8848, 8611, 8586, 8516, 8485, 8188, 8167, 8163, 8126, 8091],\n",
        "\n",
        "\"Location\": [\"Nepal/China\", \"Pakistan/China\", \"Nepal/India\", \"Nepal/China\", \"Nepal/China\", \"Nepal/China\", \"Nepal\", \"Nepal\", \"Pakistan\", \"Nepal\"],\n",
        "\n",
        "\"First Ascent Year\": [1953, 1954, 1955, 1956, 1955, 1954, 1960, 1956, 1953, 1950],\n",
        "\n",
        "\"Prominence (m)\": [8848, 4017, 3922, 610, 2378, 2340, 3357, 3092, 4608, 2984]\n"
      ]
    },
    {
      "cell_type": "code",
      "execution_count": 40,
      "metadata": {
        "id": "jrIa9MKTBnGg"
      },
      "outputs": [],
      "source": [
        "# Your code:\n",
        "hill_data =  {}\n",
        "hill_data[\"hill_name\"]= [\"Everest\", \"K2\", \"Kangchenjunga\", \"Lhotse\", \"Makalu\", \"Cho Oyu\", \"Dhaulagiri\", \"Manaslu\", \"Nanga Parbat\", \"Annapurna\"]\n",
        "hill_data[\"height\"]= [8848, 8611, 8586, 8516, 8485, 8188, 8167, 8163, 8126, 8091]\n",
        "hill_data[\"location\"]=[\"Nepal/China\", \"Pakistan/China\", \"Nepal/India\", \"Nepal/China\", \"Nepal/China\", \"Nepal/China\", \"Nepal\", \"Nepal\", \"Pakistan\", \"Nepal\"]\n",
        "hill_data[\"first_ascent_year\"]= [1953, 1954, 1955, 1956, 1955, 1954, 1960, 1956, 1953, 1950]\n",
        "hill_data[\"prominence\"]= [8848, 4017, 3922, 610, 2378, 2340, 3357, 3092, 4608, 2984]"
      ]
    },
    {
      "cell_type": "markdown",
      "metadata": {
        "id": "CyGp3wRYBnGh"
      },
      "source": [
        "#### Convert your dictionary to a pandas dataframe with name hill_pd"
      ]
    },
    {
      "cell_type": "code",
      "execution_count": 41,
      "metadata": {
        "colab": {
          "base_uri": "https://localhost:8080/",
          "height": 363
        },
        "id": "2-VacJnFBnGh",
        "outputId": "cfe7e6a3-8b2d-47c0-d450-2e0b3145dd22"
      },
      "outputs": [
        {
          "output_type": "execute_result",
          "data": {
            "text/plain": [
              "       hill_name  height        location  first_ascent_year  prominence\n",
              "0        Everest    8848     Nepal/China               1953        8848\n",
              "1             K2    8611  Pakistan/China               1954        4017\n",
              "2  Kangchenjunga    8586     Nepal/India               1955        3922\n",
              "3         Lhotse    8516     Nepal/China               1956         610\n",
              "4         Makalu    8485     Nepal/China               1955        2378\n",
              "5        Cho Oyu    8188     Nepal/China               1954        2340\n",
              "6     Dhaulagiri    8167           Nepal               1960        3357\n",
              "7        Manaslu    8163           Nepal               1956        3092\n",
              "8   Nanga Parbat    8126        Pakistan               1953        4608\n",
              "9      Annapurna    8091           Nepal               1950        2984"
            ],
            "text/html": [
              "\n",
              "  <div id=\"df-c84b7a23-bc8d-456b-94f8-8c449e6ff9d6\" class=\"colab-df-container\">\n",
              "    <div>\n",
              "<style scoped>\n",
              "    .dataframe tbody tr th:only-of-type {\n",
              "        vertical-align: middle;\n",
              "    }\n",
              "\n",
              "    .dataframe tbody tr th {\n",
              "        vertical-align: top;\n",
              "    }\n",
              "\n",
              "    .dataframe thead th {\n",
              "        text-align: right;\n",
              "    }\n",
              "</style>\n",
              "<table border=\"1\" class=\"dataframe\">\n",
              "  <thead>\n",
              "    <tr style=\"text-align: right;\">\n",
              "      <th></th>\n",
              "      <th>hill_name</th>\n",
              "      <th>height</th>\n",
              "      <th>location</th>\n",
              "      <th>first_ascent_year</th>\n",
              "      <th>prominence</th>\n",
              "    </tr>\n",
              "  </thead>\n",
              "  <tbody>\n",
              "    <tr>\n",
              "      <th>0</th>\n",
              "      <td>Everest</td>\n",
              "      <td>8848</td>\n",
              "      <td>Nepal/China</td>\n",
              "      <td>1953</td>\n",
              "      <td>8848</td>\n",
              "    </tr>\n",
              "    <tr>\n",
              "      <th>1</th>\n",
              "      <td>K2</td>\n",
              "      <td>8611</td>\n",
              "      <td>Pakistan/China</td>\n",
              "      <td>1954</td>\n",
              "      <td>4017</td>\n",
              "    </tr>\n",
              "    <tr>\n",
              "      <th>2</th>\n",
              "      <td>Kangchenjunga</td>\n",
              "      <td>8586</td>\n",
              "      <td>Nepal/India</td>\n",
              "      <td>1955</td>\n",
              "      <td>3922</td>\n",
              "    </tr>\n",
              "    <tr>\n",
              "      <th>3</th>\n",
              "      <td>Lhotse</td>\n",
              "      <td>8516</td>\n",
              "      <td>Nepal/China</td>\n",
              "      <td>1956</td>\n",
              "      <td>610</td>\n",
              "    </tr>\n",
              "    <tr>\n",
              "      <th>4</th>\n",
              "      <td>Makalu</td>\n",
              "      <td>8485</td>\n",
              "      <td>Nepal/China</td>\n",
              "      <td>1955</td>\n",
              "      <td>2378</td>\n",
              "    </tr>\n",
              "    <tr>\n",
              "      <th>5</th>\n",
              "      <td>Cho Oyu</td>\n",
              "      <td>8188</td>\n",
              "      <td>Nepal/China</td>\n",
              "      <td>1954</td>\n",
              "      <td>2340</td>\n",
              "    </tr>\n",
              "    <tr>\n",
              "      <th>6</th>\n",
              "      <td>Dhaulagiri</td>\n",
              "      <td>8167</td>\n",
              "      <td>Nepal</td>\n",
              "      <td>1960</td>\n",
              "      <td>3357</td>\n",
              "    </tr>\n",
              "    <tr>\n",
              "      <th>7</th>\n",
              "      <td>Manaslu</td>\n",
              "      <td>8163</td>\n",
              "      <td>Nepal</td>\n",
              "      <td>1956</td>\n",
              "      <td>3092</td>\n",
              "    </tr>\n",
              "    <tr>\n",
              "      <th>8</th>\n",
              "      <td>Nanga Parbat</td>\n",
              "      <td>8126</td>\n",
              "      <td>Pakistan</td>\n",
              "      <td>1953</td>\n",
              "      <td>4608</td>\n",
              "    </tr>\n",
              "    <tr>\n",
              "      <th>9</th>\n",
              "      <td>Annapurna</td>\n",
              "      <td>8091</td>\n",
              "      <td>Nepal</td>\n",
              "      <td>1950</td>\n",
              "      <td>2984</td>\n",
              "    </tr>\n",
              "  </tbody>\n",
              "</table>\n",
              "</div>\n",
              "    <div class=\"colab-df-buttons\">\n",
              "\n",
              "  <div class=\"colab-df-container\">\n",
              "    <button class=\"colab-df-convert\" onclick=\"convertToInteractive('df-c84b7a23-bc8d-456b-94f8-8c449e6ff9d6')\"\n",
              "            title=\"Convert this dataframe to an interactive table.\"\n",
              "            style=\"display:none;\">\n",
              "\n",
              "  <svg xmlns=\"http://www.w3.org/2000/svg\" height=\"24px\" viewBox=\"0 -960 960 960\">\n",
              "    <path d=\"M120-120v-720h720v720H120Zm60-500h600v-160H180v160Zm220 220h160v-160H400v160Zm0 220h160v-160H400v160ZM180-400h160v-160H180v160Zm440 0h160v-160H620v160ZM180-180h160v-160H180v160Zm440 0h160v-160H620v160Z\"/>\n",
              "  </svg>\n",
              "    </button>\n",
              "\n",
              "  <style>\n",
              "    .colab-df-container {\n",
              "      display:flex;\n",
              "      gap: 12px;\n",
              "    }\n",
              "\n",
              "    .colab-df-convert {\n",
              "      background-color: #E8F0FE;\n",
              "      border: none;\n",
              "      border-radius: 50%;\n",
              "      cursor: pointer;\n",
              "      display: none;\n",
              "      fill: #1967D2;\n",
              "      height: 32px;\n",
              "      padding: 0 0 0 0;\n",
              "      width: 32px;\n",
              "    }\n",
              "\n",
              "    .colab-df-convert:hover {\n",
              "      background-color: #E2EBFA;\n",
              "      box-shadow: 0px 1px 2px rgba(60, 64, 67, 0.3), 0px 1px 3px 1px rgba(60, 64, 67, 0.15);\n",
              "      fill: #174EA6;\n",
              "    }\n",
              "\n",
              "    .colab-df-buttons div {\n",
              "      margin-bottom: 4px;\n",
              "    }\n",
              "\n",
              "    [theme=dark] .colab-df-convert {\n",
              "      background-color: #3B4455;\n",
              "      fill: #D2E3FC;\n",
              "    }\n",
              "\n",
              "    [theme=dark] .colab-df-convert:hover {\n",
              "      background-color: #434B5C;\n",
              "      box-shadow: 0px 1px 3px 1px rgba(0, 0, 0, 0.15);\n",
              "      filter: drop-shadow(0px 1px 2px rgba(0, 0, 0, 0.3));\n",
              "      fill: #FFFFFF;\n",
              "    }\n",
              "  </style>\n",
              "\n",
              "    <script>\n",
              "      const buttonEl =\n",
              "        document.querySelector('#df-c84b7a23-bc8d-456b-94f8-8c449e6ff9d6 button.colab-df-convert');\n",
              "      buttonEl.style.display =\n",
              "        google.colab.kernel.accessAllowed ? 'block' : 'none';\n",
              "\n",
              "      async function convertToInteractive(key) {\n",
              "        const element = document.querySelector('#df-c84b7a23-bc8d-456b-94f8-8c449e6ff9d6');\n",
              "        const dataTable =\n",
              "          await google.colab.kernel.invokeFunction('convertToInteractive',\n",
              "                                                    [key], {});\n",
              "        if (!dataTable) return;\n",
              "\n",
              "        const docLinkHtml = 'Like what you see? Visit the ' +\n",
              "          '<a target=\"_blank\" href=https://colab.research.google.com/notebooks/data_table.ipynb>data table notebook</a>'\n",
              "          + ' to learn more about interactive tables.';\n",
              "        element.innerHTML = '';\n",
              "        dataTable['output_type'] = 'display_data';\n",
              "        await google.colab.output.renderOutput(dataTable, element);\n",
              "        const docLink = document.createElement('div');\n",
              "        docLink.innerHTML = docLinkHtml;\n",
              "        element.appendChild(docLink);\n",
              "      }\n",
              "    </script>\n",
              "  </div>\n",
              "\n",
              "\n",
              "<div id=\"df-e40c6437-7ab7-4bec-be9e-c5b3158c1a9c\">\n",
              "  <button class=\"colab-df-quickchart\" onclick=\"quickchart('df-e40c6437-7ab7-4bec-be9e-c5b3158c1a9c')\"\n",
              "            title=\"Suggest charts\"\n",
              "            style=\"display:none;\">\n",
              "\n",
              "<svg xmlns=\"http://www.w3.org/2000/svg\" height=\"24px\"viewBox=\"0 0 24 24\"\n",
              "     width=\"24px\">\n",
              "    <g>\n",
              "        <path d=\"M19 3H5c-1.1 0-2 .9-2 2v14c0 1.1.9 2 2 2h14c1.1 0 2-.9 2-2V5c0-1.1-.9-2-2-2zM9 17H7v-7h2v7zm4 0h-2V7h2v10zm4 0h-2v-4h2v4z\"/>\n",
              "    </g>\n",
              "</svg>\n",
              "  </button>\n",
              "\n",
              "<style>\n",
              "  .colab-df-quickchart {\n",
              "      --bg-color: #E8F0FE;\n",
              "      --fill-color: #1967D2;\n",
              "      --hover-bg-color: #E2EBFA;\n",
              "      --hover-fill-color: #174EA6;\n",
              "      --disabled-fill-color: #AAA;\n",
              "      --disabled-bg-color: #DDD;\n",
              "  }\n",
              "\n",
              "  [theme=dark] .colab-df-quickchart {\n",
              "      --bg-color: #3B4455;\n",
              "      --fill-color: #D2E3FC;\n",
              "      --hover-bg-color: #434B5C;\n",
              "      --hover-fill-color: #FFFFFF;\n",
              "      --disabled-bg-color: #3B4455;\n",
              "      --disabled-fill-color: #666;\n",
              "  }\n",
              "\n",
              "  .colab-df-quickchart {\n",
              "    background-color: var(--bg-color);\n",
              "    border: none;\n",
              "    border-radius: 50%;\n",
              "    cursor: pointer;\n",
              "    display: none;\n",
              "    fill: var(--fill-color);\n",
              "    height: 32px;\n",
              "    padding: 0;\n",
              "    width: 32px;\n",
              "  }\n",
              "\n",
              "  .colab-df-quickchart:hover {\n",
              "    background-color: var(--hover-bg-color);\n",
              "    box-shadow: 0 1px 2px rgba(60, 64, 67, 0.3), 0 1px 3px 1px rgba(60, 64, 67, 0.15);\n",
              "    fill: var(--button-hover-fill-color);\n",
              "  }\n",
              "\n",
              "  .colab-df-quickchart-complete:disabled,\n",
              "  .colab-df-quickchart-complete:disabled:hover {\n",
              "    background-color: var(--disabled-bg-color);\n",
              "    fill: var(--disabled-fill-color);\n",
              "    box-shadow: none;\n",
              "  }\n",
              "\n",
              "  .colab-df-spinner {\n",
              "    border: 2px solid var(--fill-color);\n",
              "    border-color: transparent;\n",
              "    border-bottom-color: var(--fill-color);\n",
              "    animation:\n",
              "      spin 1s steps(1) infinite;\n",
              "  }\n",
              "\n",
              "  @keyframes spin {\n",
              "    0% {\n",
              "      border-color: transparent;\n",
              "      border-bottom-color: var(--fill-color);\n",
              "      border-left-color: var(--fill-color);\n",
              "    }\n",
              "    20% {\n",
              "      border-color: transparent;\n",
              "      border-left-color: var(--fill-color);\n",
              "      border-top-color: var(--fill-color);\n",
              "    }\n",
              "    30% {\n",
              "      border-color: transparent;\n",
              "      border-left-color: var(--fill-color);\n",
              "      border-top-color: var(--fill-color);\n",
              "      border-right-color: var(--fill-color);\n",
              "    }\n",
              "    40% {\n",
              "      border-color: transparent;\n",
              "      border-right-color: var(--fill-color);\n",
              "      border-top-color: var(--fill-color);\n",
              "    }\n",
              "    60% {\n",
              "      border-color: transparent;\n",
              "      border-right-color: var(--fill-color);\n",
              "    }\n",
              "    80% {\n",
              "      border-color: transparent;\n",
              "      border-right-color: var(--fill-color);\n",
              "      border-bottom-color: var(--fill-color);\n",
              "    }\n",
              "    90% {\n",
              "      border-color: transparent;\n",
              "      border-bottom-color: var(--fill-color);\n",
              "    }\n",
              "  }\n",
              "</style>\n",
              "\n",
              "  <script>\n",
              "    async function quickchart(key) {\n",
              "      const quickchartButtonEl =\n",
              "        document.querySelector('#' + key + ' button');\n",
              "      quickchartButtonEl.disabled = true;  // To prevent multiple clicks.\n",
              "      quickchartButtonEl.classList.add('colab-df-spinner');\n",
              "      try {\n",
              "        const charts = await google.colab.kernel.invokeFunction(\n",
              "            'suggestCharts', [key], {});\n",
              "      } catch (error) {\n",
              "        console.error('Error during call to suggestCharts:', error);\n",
              "      }\n",
              "      quickchartButtonEl.classList.remove('colab-df-spinner');\n",
              "      quickchartButtonEl.classList.add('colab-df-quickchart-complete');\n",
              "    }\n",
              "    (() => {\n",
              "      let quickchartButtonEl =\n",
              "        document.querySelector('#df-e40c6437-7ab7-4bec-be9e-c5b3158c1a9c button');\n",
              "      quickchartButtonEl.style.display =\n",
              "        google.colab.kernel.accessAllowed ? 'block' : 'none';\n",
              "    })();\n",
              "  </script>\n",
              "</div>\n",
              "\n",
              "  <div id=\"id_701d43f9-4c80-46ba-b932-ba2b14d67fd3\">\n",
              "    <style>\n",
              "      .colab-df-generate {\n",
              "        background-color: #E8F0FE;\n",
              "        border: none;\n",
              "        border-radius: 50%;\n",
              "        cursor: pointer;\n",
              "        display: none;\n",
              "        fill: #1967D2;\n",
              "        height: 32px;\n",
              "        padding: 0 0 0 0;\n",
              "        width: 32px;\n",
              "      }\n",
              "\n",
              "      .colab-df-generate:hover {\n",
              "        background-color: #E2EBFA;\n",
              "        box-shadow: 0px 1px 2px rgba(60, 64, 67, 0.3), 0px 1px 3px 1px rgba(60, 64, 67, 0.15);\n",
              "        fill: #174EA6;\n",
              "      }\n",
              "\n",
              "      [theme=dark] .colab-df-generate {\n",
              "        background-color: #3B4455;\n",
              "        fill: #D2E3FC;\n",
              "      }\n",
              "\n",
              "      [theme=dark] .colab-df-generate:hover {\n",
              "        background-color: #434B5C;\n",
              "        box-shadow: 0px 1px 3px 1px rgba(0, 0, 0, 0.15);\n",
              "        filter: drop-shadow(0px 1px 2px rgba(0, 0, 0, 0.3));\n",
              "        fill: #FFFFFF;\n",
              "      }\n",
              "    </style>\n",
              "    <button class=\"colab-df-generate\" onclick=\"generateWithVariable('hill_pd')\"\n",
              "            title=\"Generate code using this dataframe.\"\n",
              "            style=\"display:none;\">\n",
              "\n",
              "  <svg xmlns=\"http://www.w3.org/2000/svg\" height=\"24px\"viewBox=\"0 0 24 24\"\n",
              "       width=\"24px\">\n",
              "    <path d=\"M7,19H8.4L18.45,9,17,7.55,7,17.6ZM5,21V16.75L18.45,3.32a2,2,0,0,1,2.83,0l1.4,1.43a1.91,1.91,0,0,1,.58,1.4,1.91,1.91,0,0,1-.58,1.4L9.25,21ZM18.45,9,17,7.55Zm-12,3A5.31,5.31,0,0,0,4.9,8.1,5.31,5.31,0,0,0,1,6.5,5.31,5.31,0,0,0,4.9,4.9,5.31,5.31,0,0,0,6.5,1,5.31,5.31,0,0,0,8.1,4.9,5.31,5.31,0,0,0,12,6.5,5.46,5.46,0,0,0,6.5,12Z\"/>\n",
              "  </svg>\n",
              "    </button>\n",
              "    <script>\n",
              "      (() => {\n",
              "      const buttonEl =\n",
              "        document.querySelector('#id_701d43f9-4c80-46ba-b932-ba2b14d67fd3 button.colab-df-generate');\n",
              "      buttonEl.style.display =\n",
              "        google.colab.kernel.accessAllowed ? 'block' : 'none';\n",
              "\n",
              "      buttonEl.onclick = () => {\n",
              "        google.colab.notebook.generateWithVariable('hill_pd');\n",
              "      }\n",
              "      })();\n",
              "    </script>\n",
              "  </div>\n",
              "\n",
              "    </div>\n",
              "  </div>\n"
            ],
            "application/vnd.google.colaboratory.intrinsic+json": {
              "type": "dataframe",
              "variable_name": "hill_pd",
              "summary": "{\n  \"name\": \"hill_pd\",\n  \"rows\": 10,\n  \"fields\": [\n    {\n      \"column\": \"hill_name\",\n      \"properties\": {\n        \"dtype\": \"string\",\n        \"num_unique_values\": 10,\n        \"samples\": [\n          \"Nanga Parbat\",\n          \"K2\",\n          \"Cho Oyu\"\n        ],\n        \"semantic_type\": \"\",\n        \"description\": \"\"\n      }\n    },\n    {\n      \"column\": \"height\",\n      \"properties\": {\n        \"dtype\": \"number\",\n        \"std\": 262,\n        \"min\": 8091,\n        \"max\": 8848,\n        \"num_unique_values\": 10,\n        \"samples\": [\n          8126,\n          8611,\n          8188\n        ],\n        \"semantic_type\": \"\",\n        \"description\": \"\"\n      }\n    },\n    {\n      \"column\": \"location\",\n      \"properties\": {\n        \"dtype\": \"string\",\n        \"num_unique_values\": 5,\n        \"samples\": [\n          \"Pakistan/China\",\n          \"Pakistan\",\n          \"Nepal/India\"\n        ],\n        \"semantic_type\": \"\",\n        \"description\": \"\"\n      }\n    },\n    {\n      \"column\": \"first_ascent_year\",\n      \"properties\": {\n        \"dtype\": \"number\",\n        \"std\": 2,\n        \"min\": 1950,\n        \"max\": 1960,\n        \"num_unique_values\": 6,\n        \"samples\": [\n          1953,\n          1954,\n          1950\n        ],\n        \"semantic_type\": \"\",\n        \"description\": \"\"\n      }\n    },\n    {\n      \"column\": \"prominence\",\n      \"properties\": {\n        \"dtype\": \"number\",\n        \"std\": 2148,\n        \"min\": 610,\n        \"max\": 8848,\n        \"num_unique_values\": 10,\n        \"samples\": [\n          4608,\n          4017,\n          2340\n        ],\n        \"semantic_type\": \"\",\n        \"description\": \"\"\n      }\n    }\n  ]\n}"
            }
          },
          "metadata": {},
          "execution_count": 41
        }
      ],
      "source": [
        "\n",
        "#Your code:\n",
        "hill_pd = pd.DataFrame(hill_data)\n",
        "hill_pd"
      ]
    },
    {
      "cell_type": "markdown",
      "metadata": {
        "id": "Ozqyy_IyBnGh"
      },
      "source": [
        "#### Save your hill_pd to csv"
      ]
    },
    {
      "cell_type": "code",
      "execution_count": 45,
      "metadata": {
        "id": "MjdyCIJiBnGh"
      },
      "outputs": [],
      "source": [
        "# Your code:\n",
        "csv = hill_pd.to_csv(\"hill_data.csv\", index=False)"
      ]
    },
    {
      "cell_type": "markdown",
      "metadata": {
        "id": "L7C0zVnrBnGh"
      },
      "source": [
        "#### Read your hill data from your csv"
      ]
    },
    {
      "cell_type": "code",
      "execution_count": 46,
      "metadata": {
        "colab": {
          "base_uri": "https://localhost:8080/"
        },
        "id": "Drgso5IhBnGh",
        "outputId": "c2db95cf-319d-480d-ab3e-ffc47f1105d7"
      },
      "outputs": [
        {
          "output_type": "stream",
          "name": "stdout",
          "text": [
            "       hill_name  height        location  first_ascent_year  prominence\n",
            "0        Everest    8848     Nepal/China               1953        8848\n",
            "1             K2    8611  Pakistan/China               1954        4017\n",
            "2  Kangchenjunga    8586     Nepal/India               1955        3922\n",
            "3         Lhotse    8516     Nepal/China               1956         610\n",
            "4         Makalu    8485     Nepal/China               1955        2378\n",
            "5        Cho Oyu    8188     Nepal/China               1954        2340\n",
            "6     Dhaulagiri    8167           Nepal               1960        3357\n",
            "7        Manaslu    8163           Nepal               1956        3092\n",
            "8   Nanga Parbat    8126        Pakistan               1953        4608\n",
            "9      Annapurna    8091           Nepal               1950        2984\n"
          ]
        }
      ],
      "source": [
        "# your code\n",
        "df = pd.read_csv(\"hill_data.csv\")\n",
        "print(df)"
      ]
    },
    {
      "cell_type": "markdown",
      "metadata": {
        "id": "P5mOmU0RBnGh"
      },
      "source": [
        "#### Please select hills with an altitude higher than 8100 meters and express them in the form of a bar graph."
      ]
    },
    {
      "cell_type": "code",
      "execution_count": 55,
      "metadata": {
        "colab": {
          "base_uri": "https://localhost:8080/",
          "height": 448
        },
        "id": "V7ozwLf-BnGh",
        "outputId": "9bf910be-fcf0-442f-c04d-eeaac1c3d379"
      },
      "outputs": [
        {
          "output_type": "execute_result",
          "data": {
            "text/plain": [
              "<BarContainer object of 9 artists>"
            ]
          },
          "metadata": {},
          "execution_count": 55
        },
        {
          "output_type": "display_data",
          "data": {
            "text/plain": [
              "<Figure size 640x480 with 1 Axes>"
            ],
            "image/png": "[encoded data removed]"
          },
          "metadata": {}
        }
      ],
      "source": [
        "# your code:\n",
        "\n",
        "selected_hill = df[df[\"height\"] > 8100]\n",
        "\n",
        "plt.bar(selected_hill[\"hill_name\"], selected_hill[\"height\"])"
      ]
    },
    {
      "cell_type": "code",
      "execution_count": 63,
      "metadata": {
        "colab": {
          "base_uri": "https://localhost:8080/",
          "height": 533
        },
        "id": "RssE3O5lBnGi",
        "outputId": "6e4f4339-ff1f-4ac9-f444-d2b2407e3f76"
      },
      "outputs": [
        {
          "output_type": "stream",
          "name": "stderr",
          "text": [
            "<ipython-input-63-5dd8ddd0b94f>:9: UserWarning: No artists with labels found to put in legend.  Note that artists whose label start with an underscore are ignored when legend() is called with no argument.\n",
            "  plt.legend()\n"
          ]
        },
        {
          "output_type": "display_data",
          "data": {
            "text/plain": [
              "<Figure size 640x480 with 1 Axes>"
            ],
            "image/png": "[encoded data removed]"
          },
          "metadata": {}
        }
      ],
      "source": [
        "\n",
        "# Visualization\n",
        "# Need to add x,y labels, titles and grid.\n",
        "# Please add your name on graph titles.\n",
        "plt.bar(selected_hill[\"hill_name\"], selected_hill[\"height\"])\n",
        "plt.title(\"Hills with an altitude higher than 8100 meters\", fontsize=14)\n",
        "plt.xlabel(\"Hill Name\", fontsize=12)\n",
        "plt.ylabel(\"Height (m)\", fontsize=12)\n",
        "plt.grid(True)\n",
        "plt.show()\n"
      ]
    },
    {
      "cell_type": "markdown",
      "metadata": {
        "id": "Qj7QDm7fBnGm"
      },
      "source": [
        "#### For Graduate students only (CS557)\n",
        "\n",
        "Please add another set of visualizations using the **Prominence** data and explain their significance."
      ]
    },
    {
      "cell_type": "code",
      "execution_count": null,
      "metadata": {
        "id": "KSePNtLiBnGm"
      },
      "outputs": [],
      "source": []
    }
  ],
  "metadata": {
    "kernelspec": {
      "display_name": "Python 3 (ipykernel)",
      "language": "python",
      "name": "python3"
    },
    "language_info": {
      "codemirror_mode": {
        "name": "ipython",
        "version": 3
      },
      "file_extension": ".py",
      "mimetype": "text/x-python",
      "name": "python",
      "nbconvert_exporter": "python",
      "pygments_lexer": "ipython3",
      "version": "3.11.8"
    },
    "colab": {
      "provenance": [],
      "toc_visible": true
    }
  },
  "nbformat": 4,
  "nbformat_minor": 0
}