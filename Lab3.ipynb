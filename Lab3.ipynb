{
 "cells": [
  {
   "cell_type": "markdown",
   "id": "488b8266",
   "metadata": {},
   "source": [
    "# Lab Assignment: Building a Neural Network from Scratch\n",
    "\n",
    "### Objective\n",
    "This lab guides you through the implementation of a simple feedforward neural network from scratch. \n",
    "By completing this lab, you will:\n",
    "- Initialize a neural network with weights and biases.\n",
    "- Compute the weighted sum at each node.\n",
    "- Apply activation functions for node outputs.\n",
    "- Perform forward propagation to compute predictions.\n",
    "- Implement backpropagation to compute gradients.\n",
    "- Update weights using gradients to minimize the loss."
   ]
  },
  {
   "cell_type": "markdown",
   "id": "2668a14e",
   "metadata": {},
   "source": [
    "## Step 1: Initialize the Network"
   ]
  },
  {
   "cell_type": "code",
   "execution_count": 20,
   "id": "396df339",
   "metadata": {},
   "outputs": [
    {
     "name": "stdout",
     "output_type": "stream",
     "text": [
      "Rocio + Initialized Network: [{'weights': array([[ 0.49671415, -0.1382643 ,  0.64768854,  1.52302986],\n",
      "       [-0.23415337, -0.23413696,  1.57921282,  0.76743473],\n",
      "       [-0.46947439,  0.54256004, -0.46341769, -0.46572975]]), 'biases': array([ 0.24196227, -1.91328024, -1.72491783, -0.56228753])}, {'weights': array([[-1.01283112,  0.31424733, -0.90802408],\n",
      "       [-1.4123037 ,  1.46564877, -0.2257763 ],\n",
      "       [ 0.0675282 , -1.42474819, -0.54438272],\n",
      "       [ 0.11092259, -1.15099358,  0.37569802]]), 'biases': array([-0.60063869, -0.29169375, -0.60170661])}, {'weights': array([[ 1.85227818],\n",
      "       [-0.01349722],\n",
      "       [-1.05771093]]), 'biases': array([0.82254491])}]\n"
     ]
    }
   ],
   "source": [
    "import numpy as np\n",
    "np.random.seed(42) # For reproducibility\n",
    "\n",
    "#initializes a neural netowrk with given input size, hidden layers and output size. \n",
    "#each layer has randomly initialized weights and biases \n",
    "def initialize_network(input_size, hidden_layers, output_size):\n",
    "    network = []\n",
    "\n",
    "    #define the layer sizes including input, hidden and output layers\n",
    "    layer_sizes = [input_size] + hidden_layers + [output_size]\n",
    "\n",
    "    #initialize weights and biases for each layer \n",
    "    for i in range(len(layer_sizes) -1): \n",
    "        layer = {\n",
    "            'weights': np.random.randn(layer_sizes[i], layer_sizes[i+1]), #random weights \n",
    "            'biases': np.random.randn(layer_sizes[i+1]) #random biases \n",
    "        }\n",
    "        network.append(layer)\n",
    "\n",
    "    return network; \n",
    "    \n",
    "# Initialize a network with 3 inputs, 2 hidden layers (4 and 3 nodes), and 1 output node\n",
    "network = initialize_network(3, [4, 3], 1)\n",
    "print(\"Rocio + Initialized Network:\", network)"
   ]
  },
  {
   "cell_type": "markdown",
   "id": "3ecfdd84",
   "metadata": {},
   "source": [
    "## Step 2: Compute Weighted Sum"
   ]
  },
  {
   "cell_type": "code",
   "execution_count": 21,
   "id": "66c4ad58",
   "metadata": {},
   "outputs": [
    {
     "name": "stdout",
     "output_type": "stream",
     "text": [
      "Rocio + Weighted Sum: [[ 0.45596228  0.4478912  -2.78058598 -0.40920259]]\n"
     ]
    }
   ],
   "source": [
    "\n",
    "#computes the weighted sum of inputs for a given layer using NumPys dot product \n",
    "def compute_weighted_sum(inputs, weights, biases):\n",
    "    # Please numpy dot to calcuate the compute weighted with linear \n",
    "    return np.dot(inputs, weights) + biases\n",
    "    \n",
    "#initialize a network with 3 inputs, 2 hiddden layers (4 and 3 nodes) and 1 output node \n",
    "network = initialize_network(3,[4,3], 1)\n",
    "\n",
    "# Test weighted sum\n",
    "inputs = np.array([[0.5, 0.2, 0.1]])\n",
    "layer = network[0]  # First layer\n",
    "Z = compute_weighted_sum(inputs, layer['weights'], layer['biases'])\n",
    "print(\"Rocio + Weighted Sum:\", Z)"
   ]
  },
  {
   "cell_type": "markdown",
   "id": "7d82553f",
   "metadata": {},
   "source": [
    "## Step 3: Compute Node Activation"
   ]
  },
  {
   "cell_type": "code",
   "execution_count": 22,
   "id": "36b00bf0",
   "metadata": {},
   "outputs": [
    {
     "name": "stdout",
     "output_type": "stream",
     "text": [
      "Rocio: [[0.7583801  0.55388286 0.30344119 0.56376947]]\n"
     ]
    }
   ],
   "source": [
    "#applies the sigmoid activation function element-wise\n",
    "def sigmoid(Z):\n",
    "    # returns ndarrays: sigmoid activation values \n",
    "    return 1/(1+np.exp(-Z))\n",
    "\n",
    "#computes the derivative of the sigmoid function \n",
    "def sigmoid_derivative(A):\n",
    "    #return ndarray: derivative of the sigmoid function \n",
    "    return A * (1-A)\n",
    "#initializes a network with 3 inputs, 2 hidden layers (4 and 3 nodes) and 1 output node \n",
    "network = initialize_network(3,[4,3], 1)\n",
    "\n",
    "#test weighted sum\n",
    "inputs = np.array([[0.5, 0.2, 0.1]]) \n",
    "layer = network[0] #first layer \n",
    "Z = compute_weighted_sum(inputs, layer['weights'], layer['biases'])\n",
    "\n",
    "# Compute activation for the weighted sum\n",
    "A = sigmoid(Z)\n",
    "print(\"Rocio:\", A)"
   ]
  },
  {
   "cell_type": "markdown",
   "id": "769f9c55",
   "metadata": {},
   "source": [
    "## Step 4: Perform Forward Propagation"
   ]
  },
  {
   "cell_type": "code",
   "execution_count": 25,
   "id": "5d2e9d28",
   "metadata": {},
   "outputs": [
    {
     "name": "stdout",
     "output_type": "stream",
     "text": [
      "[array([[0.5, 0.2, 0.1]]), array([[0.32405081, 0.84329152, 0.70351111, 0.71674691]]), array([[0.3023708 , 0.81781197, 0.29833249]]), array([[0.18416435]])]\n",
      "myName + Final Output: [[0.18416435]]\n"
     ]
    }
   ],
   "source": [
    "#performs forwards propagation through the network \n",
    "def forward_propagation(inputs, network):\n",
    "    # provide your code\n",
    "    activations = [inputs] #store the input layer activations\n",
    "\n",
    "    for layer in network:\n",
    "        Z = compute_weighted_sum(activations[-1], layer['weights'], layer['biases'])\n",
    "        A = sigmoid(Z)\n",
    "        activations.append(A)\n",
    "\n",
    "    return activations\n",
    "\n",
    "#initializa a network with 3 inputs, 2 hidden layers (and 3 nodes) and 1 output node\n",
    "network = initialize_network(3,[4,3],1)\n",
    "\n",
    "# Perform forward propagation\n",
    "inputs = np.array([[0.5,0.2,0.1]])\n",
    "activations = forward_propagation(inputs, network)\n",
    "print(activations)\n",
    "print(\"Rocio + Final Output:\", activations[-1])"
   ]
  },
  {
   "cell_type": "markdown",
   "id": "e342f58d",
   "metadata": {},
   "source": [
    "## Step 5: Backpropagation"
   ]
  },
  {
   "cell_type": "code",
   "execution_count": 27,
   "id": "1ec4d75a",
   "metadata": {},
   "outputs": [
    {
     "name": "stdout",
     "output_type": "stream",
     "text": [
      "<Your Name > + Gradients: [{'dW': array([[ 5.51911733e-03,  2.96752583e-05,  7.77662965e-04,\n",
      "        -1.42710560e-03],\n",
      "       [ 2.20764693e-03,  1.18701033e-05,  3.11065186e-04,\n",
      "        -5.70842238e-04],\n",
      "       [ 1.10382347e-03,  5.93505166e-06,  1.55532593e-04,\n",
      "        -2.85421119e-04]]), 'dB': array([[ 1.10382347e-02,  5.93505166e-05,  1.55532593e-03,\n",
      "        -2.85421119e-03]])}, {'dW': array([[ 0.00659422,  0.00068086, -0.00450411],\n",
      "       [ 0.01271057,  0.00131238, -0.0086818 ],\n",
      "       [ 0.00553726,  0.00057173, -0.00378216],\n",
      "       [ 0.00510368,  0.00052696, -0.00348601]]), 'dB': array([[ 0.01706217,  0.00176168, -0.01165411]])}, {'dW': array([[-0.11135717],\n",
      "       [-0.02897   ],\n",
      "       [-0.07254042]]), 'dB': array([[-0.13710789]])}]\n"
     ]
    }
   ],
   "source": [
    "#performs backpropagation to compute gradients for weight and bias updates \n",
    "def backpropagation(network, activations, y_true):\n",
    "    gradients = []\n",
    "    L = len(network) #number of layers\n",
    "\n",
    "    #compute error for the output layer \n",
    "    error = activations[-1] - y_true\n",
    "\n",
    "    for i in reversed(range(L)):\n",
    "        A = activations[i] #activation of previous layer \n",
    "        dZ = error * sigmoid_derivative(activations[i+1]) #gradient of loss w.r.\n",
    "        dW = np.dot(A.T, dZ) #gradient of loss w.r.t weights \n",
    "        dB = np.sum(dZ, axis=0, keepdims=True) #gradient of loss w.r.t biases \n",
    "\n",
    "        gradients.insert(0, {'dW': dW, 'dB' : dB})\n",
    "\n",
    "        #propagate the error backwards\n",
    "        error = np.dot(dZ, network[i]['weights'].T)\n",
    "    return gradients\n",
    "\n",
    "#initialize a network with 3 inputs, 2 hidden layers (4 and 3 nodes), and 1 output \n",
    "network = initialize_network(3,[4,3],1)\n",
    "\n",
    "#test forward propagations \n",
    "inputs = np.array([[0.5,0.2,0.1]]) #example target output \n",
    "activations = forward_propagation(inputs, network)\n",
    "\n",
    "# Compute gradients\n",
    "y_true = np.array([[1]])  # Example target output\n",
    "gradients = backpropagation(network, activations, y_true)\n",
    "print(\"Rocio + Gradients:\", gradients)"
   ]
  },
  {
   "cell_type": "markdown",
   "id": "d6b81797-9f82-493a-a509-b1360f04071c",
   "metadata": {},
   "source": [
    "## Step 6: Update Weights"
   ]
  },
  {
   "cell_type": "code",
   "execution_count": 32,
   "id": "33990e4e-9a02-4728-9ff5-fc41e7ef42be",
   "metadata": {},
   "outputs": [
    {
     "name": "stdout",
     "output_type": "stream",
     "text": [
      "Rocio + Updated Network: [{'weights': array([[-0.33445674, -0.47491333, -0.65343088,  1.76561736],\n",
      "       [ 0.40499951, -1.26087116,  0.91782129,  2.12222144],\n",
      "       [ 1.03247416, -1.51936357, -0.4842544 ,  1.26694377]]), 'biases': array([-0.70758047,  0.4438834 ,  0.77443075, -0.92660423])}, {'weights': array([[-0.0592968 , -3.24132637, -1.02434456],\n",
      "       [-0.25225961, -1.24786287,  1.63246947],\n",
      "       [-1.42970205, -0.44015796,  0.13082339],\n",
      "       [ 1.4417005 , -1.4359725 ,  1.16324429]]), 'biases': array([ 0.01091761, -0.98168546,  0.46223252])}, {'weights': array([[ 0.20548272],\n",
      "       [-0.59991574],\n",
      "       [ 0.08142877]]), 'biases': array([-0.37148869])}]\n"
     ]
    }
   ],
   "source": [
    "#updates the network weights and biases using computed gradients \n",
    "def update_weights(network, gradients, learning_rate):\n",
    "    # Hints: weights -= learning_rate * 'dW'\n",
    "    # Hints: biases -= learning_rate * 'db'\n",
    "    for i in range(len(network)):\n",
    "        network[i]['weights'] -= learning_rate * gradients[i]['dW']\n",
    "        network[i]['biases'] -= learning_rate * gradients[i]['dB'].reshape(network[i]['biases'].shape)\n",
    "#initialize a network with 3 inputs, 2 hidden layers (4 and 3 nodes) and 1 output node\n",
    "network = initialize_network(3,[4,3],1)\n",
    "\n",
    "#test forward propagation \n",
    "inputs = np.array([[0.5, 0.2, 0.1]])\n",
    "activations = forward_propagation(inputs, network)\n",
    "\n",
    "#compute gradients \n",
    "y_true = np.array([[1]]) #example target output \n",
    "gradients = backpropagation(network, activations, y_true)\n",
    "\n",
    "# Update weights with a learning rate of 0.1\n",
    "update_weights(network, gradients, learning_rate=0.1)\n",
    "print(\"Rocio + Updated Network:\", network)"
   ]
  },
  {
   "cell_type": "markdown",
   "id": "ed55add1",
   "metadata": {},
   "source": [
    "## Step 7: Visualizing Loss Changes"
   ]
  },
  {
   "cell_type": "code",
   "execution_count": 40,
   "id": "9fe355dc",
   "metadata": {},
   "outputs": [],
   "source": [
    "# Use MSE to compute the loss \n",
    "def compute_loss(y_true, y_pred):\n",
    "    return np.mean((y_true-y_pred) ** 2)\n"
   ]
  },
  {
   "cell_type": "code",
   "execution_count": 51,
   "id": "f7270921",
   "metadata": {},
   "outputs": [
    {
     "data": {
      "image/png": "[encoded data removed]",
      "text/plain": [
       "<Figure size 640x480 with 1 Axes>"
      ]
     },
     "metadata": {},
     "output_type": "display_data"
    }
   ],
   "source": [
    "import matplotlib.pyplot as plt\n",
    "\n",
    "# Training Loop\n",
    "losses = []\n",
    "inputs = np.array([[0.5, 0.2, 0.1]])\n",
    "y_true = np.array([[1]])\n",
    "learning_rate = 0.1\n",
    "\n",
    "#pick a weight \n",
    "tracked_weight_index =(0,0)\n",
    "tracked_weight_changes=[]\n",
    "\n",
    "for iteration in range(100):\n",
    "    # provide your code\n",
    "    # Hints: forward_propagation function with inputs network\n",
    "    #        compute_loss for y_true and activations[-1]\n",
    "    #        add loss to losses\n",
    "    activations = forward_propagation(inputs, network)\n",
    "    loss = compute_loss(y_true, activations[-1])\n",
    "    losses.append(loss)\n",
    "    # gradients = backpropagation function\n",
    "    gradients = backpropagation(network, activations, y_true)\n",
    "\n",
    "    # Track changes of the selected weight\n",
    "    tracked_weight_changes.append(network[0]['weights'][tracked_weight_index])\n",
    "    # update_weights\n",
    "    update_weights(network, gradients, learning_rate)\n",
    "    \n",
    "    \n",
    "    \n",
    "# Plot Loss and rerun all cells\n",
    "plt.plot(losses)\n",
    "plt.title(\"Rocio + Loss Before and After Weight Updates\")\n",
    "plt.xlabel(\"Iterations\")\n",
    "plt.ylabel(\"Loss\")\n",
    "plt.show()\n"
   ]
  },
  {
   "cell_type": "markdown",
   "id": "737f4b49-9f2b-4e5c-8f75-cb102fc858e0",
   "metadata": {},
   "source": [
    "### Step 8: Visualizing Gradients Changes (Graduate students)"
   ]
  },
  {
   "cell_type": "markdown",
   "id": "42a89b54-adeb-4a5d-89b2-1883ce9634a7",
   "metadata": {},
   "source": [
    "Please pick a weight and plot the gradient change\n",
    "\n",
    "You need to point which weight you pick and label it on your graph."
   ]
  },
  {
   "cell_type": "code",
   "execution_count": 52,
   "id": "e59f30cb-09da-48e9-9551-d9055db6e26b",
   "metadata": {},
   "outputs": [
    {
     "data": {
      "image/png": "[encoded data removed]",
      "text/plain": [
       "<Figure size 640x480 with 1 Axes>"
      ]
     },
     "metadata": {},
     "output_type": "display_data"
    }
   ],
   "source": [
    "\n",
    "\n",
    "plt.subplot(1,2,2)\n",
    "plt.plot(tracked_weight_changes, label=f\"Weight {tracked_weight_index}\")\n",
    "plt.title(\"Gradient Change of Tracked Weight\")\n",
    "plt.xlabel(\"Iterations\")\n",
    "plt.ylabel(\"Weight Value\")\n",
    "plt.legend()\n",
    "plt.show()"
   ]
  },
  {
   "cell_type": "code",
   "execution_count": null,
   "id": "57f0d830-3ed2-4d96-9a72-3cca41792c07",
   "metadata": {},
   "outputs": [],
   "source": []
  }
 ],
 "metadata": {
  "kernelspec": {
   "display_name": "Python 3 (ipykernel)",
   "language": "python",
   "name": "python3"
  },
  "language_info": {
   "codemirror_mode": {
    "name": "ipython",
    "version": 3
   },
   "file_extension": ".py",
   "mimetype": "text/x-python",
   "name": "python",
   "nbconvert_exporter": "python",
   "pygments_lexer": "ipython3",
   "version": "3.12.7"
  }
 },
 "nbformat": 4,
 "nbformat_minor": 5
}
